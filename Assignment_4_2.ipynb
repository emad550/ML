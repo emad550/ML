{
  "nbformat": 4,
  "nbformat_minor": 0,
  "metadata": {
    "colab": {
      "name": "Assignment 4-2.ipynb",
      "provenance": [],
      "authorship_tag": "ABX9TyP7ElDCdT03EM45yDWinGF2",
      "include_colab_link": true
    },
    "kernelspec": {
      "name": "python3",
      "display_name": "Python 3"
    }
  },
  "cells": [
    {
      "cell_type": "markdown",
      "metadata": {
        "id": "view-in-github",
        "colab_type": "text"
      },
      "source": [
        "<a href=\"https://colab.research.google.com/github/emad550/ML/blob/master/Assignment_4_2.ipynb\" target=\"_parent\"><img src=\"https://colab.research.google.com/assets/colab-badge.svg\" alt=\"Open In Colab\"/></a>"
      ]
    },
    {
      "cell_type": "markdown",
      "metadata": {
        "id": "FIN6Vi0JfQSA",
        "colab_type": "text"
      },
      "source": [
        "#1.1 Write a Python Program(with class concepts) to find the area of the triangle using the below formula. #area = (s*(s-a)(s-b)(s-c)) ** 0.5 #Function to take the length of the sides of triangle from user should be defined in the parent #class and function to calculate the area should be defined in subclass."
      ]
    },
    {
      "cell_type": "code",
      "metadata": {
        "id": "ulRxbsmufYJe",
        "colab_type": "code",
        "colab": {
          "base_uri": "https://localhost:8080/",
          "height": 35
        },
        "outputId": "2acfac17-98da-4c6d-8622-1b08fea53a62"
      },
      "source": [
        "class Shape: \n",
        "    def init(self, a,b,c):\n",
        "        self.a = a \n",
        "        self.b = b \n",
        "        self.c = c\n",
        "        self.sides=[]\n",
        "def setsides(self): \n",
        "    self.sides = [self.a,self.b,self.c] \n",
        "    return self.sides\n",
        "class Triangle(Shape):\n",
        "    def init(self,a,b,c): \n",
        "        Shape.init(self,a,b,c) \n",
        "        super(Triangle,self).init(a,b,c) \n",
        "    def findArea(self): # calculate the semi-perimeter \n",
        "        s = (self.a+self.b+self.c)/2\n",
        "        area = (s*(s-self.a)*(s-self.b)*(s-self.c)) ** 0.5\n",
        "        try: \n",
        "            print('The area of the triangle is %0.2f' %area)\n",
        "        except:\n",
        "            print('Incorrect entry - Not a Triangle when one side is bigger than the other two combined')\n",
        "t = Triangle()\n",
        "t.init(1,12,1)\n",
        "\n",
        "t.findArea()"
      ],
      "execution_count": 6,
      "outputs": [
        {
          "output_type": "stream",
          "text": [
            "Incorrect entry - Not a Triangle when one side is bigger than the other two combined\n"
          ],
          "name": "stdout"
        }
      ]
    },
    {
      "cell_type": "markdown",
      "metadata": {
        "id": "ytH2SKemkp_1",
        "colab_type": "text"
      },
      "source": [
        "1.2 Write a function filter_long_words() that takes a list of words and an integer n and returns\n",
        "the list of words that are longer than n."
      ]
    },
    {
      "cell_type": "code",
      "metadata": {
        "id": "a7_fMDM9k4DO",
        "colab_type": "code",
        "colab": {
          "base_uri": "https://localhost:8080/",
          "height": 35
        },
        "outputId": "66c84358-b357-482b-a95c-5b629e5cc179"
      },
      "source": [
        "def filter (word):\n",
        "  n=0\n",
        "  new_word=\"\"\n",
        "  for i in word :\n",
        "    if len(i)>n:\n",
        "      n=len(i)\n",
        "      new_word=i\n",
        "  return new_word\n",
        "filter(['test','test1','test222','test2'])\n",
        "\n"
      ],
      "execution_count": 8,
      "outputs": [
        {
          "output_type": "execute_result",
          "data": {
            "application/vnd.google.colaboratory.intrinsic": {
              "type": "string"
            },
            "text/plain": [
              "'test222'"
            ]
          },
          "metadata": {
            "tags": []
          },
          "execution_count": 8
        }
      ]
    },
    {
      "cell_type": "markdown",
      "metadata": {
        "id": "VFdVxPfYluTS",
        "colab_type": "text"
      },
      "source": [
        "2.1 Write a Python program using function concept that maps list of words into a list of integers\n",
        "representing the lengths of the corresponding words.\n",
        "Hint: If a list [ ab,cde,erty] is passed on to the python function output should come as [2,3,4]\n",
        "Here 2,3 and 4 are the lengths of the words in the list."
      ]
    },
    {
      "cell_type": "code",
      "metadata": {
        "id": "ish9h8k1l9sD",
        "colab_type": "code",
        "colab": {
          "base_uri": "https://localhost:8080/",
          "height": 35
        },
        "outputId": "b8e3fa7d-900a-4e81-e75f-92991db36330"
      },
      "source": [
        "def word_len(word):\n",
        "  l=[]\n",
        "  for i in word:\n",
        "    l.append(len(i))\n",
        "  return l\n",
        "word_len(['ab','cde','erty'])"
      ],
      "execution_count": 10,
      "outputs": [
        {
          "output_type": "execute_result",
          "data": {
            "text/plain": [
              "[2, 3, 4]"
            ]
          },
          "metadata": {
            "tags": []
          },
          "execution_count": 10
        }
      ]
    },
    {
      "cell_type": "markdown",
      "metadata": {
        "id": "5LLFHiKamfzE",
        "colab_type": "text"
      },
      "source": [
        "2.2 Write a Python function which takes a character (i.e. a string of length 1) and returns True if\n",
        "it is a vowel, False otherwise."
      ]
    },
    {
      "cell_type": "code",
      "metadata": {
        "id": "Usw8KSySmkc4",
        "colab_type": "code",
        "colab": {
          "base_uri": "https://localhost:8080/",
          "height": 35
        },
        "outputId": "dd753c13-2615-4111-af0b-8ac84c710a99"
      },
      "source": [
        "def vowel(letter):\n",
        "  vowels=['a','e','i','o','u']\n",
        "  if letter in vowels:\n",
        "    return \"this letter is vowels \",True\n",
        "  else:\n",
        "    return \"this letter not vowels\",False\n",
        "vowel('e')   "
      ],
      "execution_count": 12,
      "outputs": [
        {
          "output_type": "execute_result",
          "data": {
            "text/plain": [
              "('this letter is vowels ', True)"
            ]
          },
          "metadata": {
            "tags": []
          },
          "execution_count": 12
        }
      ]
    }
  ]
}