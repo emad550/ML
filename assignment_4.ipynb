{
  "nbformat": 4,
  "nbformat_minor": 0,
  "metadata": {
    "colab": {
      "name": "assignment 4.ipynb",
      "provenance": [],
      "authorship_tag": "ABX9TyOCq8ULZOk68NzMy9Xdc6S9",
      "include_colab_link": true
    },
    "kernelspec": {
      "name": "python3",
      "display_name": "Python 3"
    }
  },
  "cells": [
    {
      "cell_type": "markdown",
      "metadata": {
        "id": "view-in-github",
        "colab_type": "text"
      },
      "source": [
        "<a href=\"https://colab.research.google.com/github/emad550/ML/blob/master/assignment_4.ipynb\" target=\"_parent\"><img src=\"https://colab.research.google.com/assets/colab-badge.svg\" alt=\"Open In Colab\"/></a>"
      ]
    },
    {
      "cell_type": "markdown",
      "metadata": {
        "id": "1-GhecoHlk3k",
        "colab_type": "text"
      },
      "source": [
        ""
      ]
    },
    {
      "cell_type": "markdown",
      "metadata": {
        "id": "_YX7edlSlniR",
        "colab_type": "text"
      },
      "source": [
        "2.1 Write a Python program using function concept that maps list of words into a list of integers\n",
        "representing the lengths of the corresponding words.\n",
        "Hint: If a list [ ab,cde,erty] is passed on to the python function output should come as [2,3,4]\n",
        "Here 2,3 and 4 are the lengths of the words in the list.\n"
      ]
    },
    {
      "cell_type": "code",
      "metadata": {
        "id": "hz3fRUlTlort",
        "colab_type": "code",
        "colab": {
          "base_uri": "https://localhost:8080/",
          "height": 35
        },
        "outputId": "8f0021bb-78f6-4549-9f52-ad9af095a03e"
      },
      "source": [
        "def text(x):\n",
        "  l=[]\n",
        "  for i in x:\n",
        "    l.append(len(i))\n",
        "  return l\n",
        "text([\"ab\",\"cde\",\"erty\"])\n"
      ],
      "execution_count": null,
      "outputs": [
        {
          "output_type": "execute_result",
          "data": {
            "text/plain": [
              "[2, 3, 4]"
            ]
          },
          "metadata": {
            "tags": []
          },
          "execution_count": 3
        }
      ]
    },
    {
      "cell_type": "markdown",
      "metadata": {
        "id": "ZhJZXCdrm5CY",
        "colab_type": "text"
      },
      "source": [
        "2.2 Write a Python function which takes a character (i.e. a string of length 1) and returns True if\n",
        "it is a vowel, False otherwise."
      ]
    },
    {
      "cell_type": "code",
      "metadata": {
        "id": "POfNjIbHm5_W",
        "colab_type": "code",
        "colab": {
          "base_uri": "https://localhost:8080/",
          "height": 35
        },
        "outputId": "b15b5108-0f3d-4cdd-b2fe-b57dd3590ff6"
      },
      "source": [
        "def v_char(char):\n",
        "  if char.isalpha():\n",
        "    if(char == 'a' or char == 'e' or char == 'i' or char == 'o' or char == 'u'):\n",
        "      return True \n",
        "    else :\n",
        "      return False \n",
        "  else :\n",
        "    print(\"please enter number\")\n",
        "char='yey'\n",
        "if (v_char(char)):\n",
        " print(char, \"is a vowel.\");\n",
        "else:\n",
        " print(char, \"is not a vowel.\");\n"
      ],
      "execution_count": null,
      "outputs": [
        {
          "output_type": "stream",
          "text": [
            "yey is not a vowel.\n"
          ],
          "name": "stdout"
        }
      ]
    }
  ]
}