{
  "nbformat": 4,
  "nbformat_minor": 0,
  "metadata": {
    "colab": {
      "name": "assignment 3 .ipynb",
      "provenance": [],
      "collapsed_sections": [],
      "authorship_tag": "ABX9TyMMJHXRMw2AEOZHLvw91d5t",
      "include_colab_link": true
    },
    "kernelspec": {
      "name": "python3",
      "display_name": "Python 3"
    }
  },
  "cells": [
    {
      "cell_type": "markdown",
      "metadata": {
        "id": "view-in-github",
        "colab_type": "text"
      },
      "source": [
        "<a href=\"https://colab.research.google.com/github/emad550/ML/blob/master/assignment_3_.ipynb\" target=\"_parent\"><img src=\"https://colab.research.google.com/assets/colab-badge.svg\" alt=\"Open In Colab\"/></a>"
      ]
    },
    {
      "cell_type": "code",
      "metadata": {
        "id": "7lzVx9tvWZ5x",
        "colab_type": "code",
        "colab": {}
      },
      "source": [
        "1.1 Write a Python Program to implement your own myreduce() function which works exactly\n",
        "like Python's built-in function reduce()"
      ],
      "execution_count": null,
      "outputs": []
    },
    {
      "cell_type": "code",
      "metadata": {
        "id": "ZcZPz9VaWqnw",
        "colab_type": "code",
        "colab": {
          "base_uri": "https://localhost:8080/",
          "height": 35
        },
        "outputId": "67ff91d5-5935-4f5f-89a6-ea6b891e564a"
      },
      "source": [
        "from functools import reduce\n",
        "l1=[2,4,5,6]\n",
        "max=lambda a,b : a if a>b else b\n",
        "reduce(max,l1)\n"
      ],
      "execution_count": null,
      "outputs": [
        {
          "output_type": "execute_result",
          "data": {
            "text/plain": [
              "6"
            ]
          },
          "metadata": {
            "tags": []
          },
          "execution_count": 4
        }
      ]
    },
    {
      "cell_type": "markdown",
      "metadata": {
        "id": "SS7rTy_rYYzy",
        "colab_type": "text"
      },
      "source": [
        "1.2 Write a Python program to implement your own myfilter() function which works exactly\n",
        "like Python's built-in function filter()"
      ]
    },
    {
      "cell_type": "code",
      "metadata": {
        "id": "UEGcbVvXYoCR",
        "colab_type": "code",
        "colab": {
          "base_uri": "https://localhost:8080/",
          "height": 193
        },
        "outputId": "87405136-97a9-48ef-b357-d8762a0122ed"
      },
      "source": [
        "num=range(20)\n",
        "less=lambda a:a<10\n",
        "x=filter(less,num)\n",
        "for i in x:\n",
        "  print (i)"
      ],
      "execution_count": null,
      "outputs": [
        {
          "output_type": "stream",
          "text": [
            "0\n",
            "1\n",
            "2\n",
            "3\n",
            "4\n",
            "5\n",
            "6\n",
            "7\n",
            "8\n",
            "9\n"
          ],
          "name": "stdout"
        }
      ]
    },
    {
      "cell_type": "markdown",
      "metadata": {
        "id": "cOJDfRTobbxw",
        "colab_type": "text"
      },
      "source": [
        "2. Implement List comprehensions to produce the following lists.\n",
        "Write List comprehensions to produce the following Lists"
      ]
    },
    {
      "cell_type": "code",
      "metadata": {
        "id": "7NaXPPrmbihm",
        "colab_type": "code",
        "colab": {}
      },
      "source": [
        "2. Implement List comprehensions to produce the following lists.\n",
        "Write List comprehensions to produce the following Lists"
      ],
      "execution_count": null,
      "outputs": []
    },
    {
      "cell_type": "code",
      "metadata": {
        "id": "CctZzvFjfFty",
        "colab_type": "code",
        "colab": {
          "base_uri": "https://localhost:8080/",
          "height": 35
        },
        "outputId": "c94f19d4-0346-4f34-abbf-8713125aade5"
      },
      "source": [
        "#['x', 'xx', 'xxx', 'xxxx', 'y', 'yy', 'yyy', 'yyyy', 'z', 'zz', 'zzz', 'zzzz']\n",
        "#['x', 'y', 'z', 'xx', 'yy', 'zz', 'xxx', 'yyy', 'zzz', 'xxxx', 'yyyy', 'zzzz']\n",
        "#[[2], [3], [4], [3], [4], [5], [4], [5], [6]] [[2, 3, 4, 5], [3, 4, 5, 6],\n",
        "#[4, 5, 6, 7], [5, 6, 7, 8]]\n",
        "#[(1, 1), (2, 1), (3, 1), (1, 2), (2, 2), (3, 2), (1, 3), (2, 3), (3, 3)]\n",
        "\n",
        "l4=['x','y','z']\n",
        "[(a*b) for a in l4 for b in range (1,5)]\n",
        "l1=['x','y','z']\n",
        "[(x*i) for i in range(1,5) for x in l1]\n",
        "l2=['x','y','z']\n",
        "[(x*i)  for x in l2 for i in range (1,5) ]\n",
        "l3 = [1,2,3]\n",
        "[(b,a) for a in l3 for b in l3]\n",
        "\n"
      ],
      "execution_count": 4,
      "outputs": [
        {
          "output_type": "execute_result",
          "data": {
            "text/plain": [
              "['x', 'y', 'z', 'xx', 'yy', 'zz', 'xxx', 'yyy', 'zzz', 'xxxx', 'yyyy', 'zzzz']"
            ]
          },
          "metadata": {
            "tags": []
          },
          "execution_count": 4
        }
      ]
    },
    {
      "cell_type": "markdown",
      "metadata": {
        "id": "Xzjc57KAWpSF",
        "colab_type": "text"
      },
      "source": [
        ""
      ]
    }
  ]
}