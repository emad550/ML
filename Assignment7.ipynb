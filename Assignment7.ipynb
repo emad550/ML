{
  "nbformat": 4,
  "nbformat_minor": 0,
  "metadata": {
    "colab": {
      "name": "Assignment7.ipynb",
      "provenance": [],
      "authorship_tag": "ABX9TyOnCdEuOXiLgB5HF5tA1EkA",
      "include_colab_link": true
    },
    "kernelspec": {
      "name": "python3",
      "display_name": "Python 3"
    }
  },
  "cells": [
    {
      "cell_type": "markdown",
      "metadata": {
        "id": "view-in-github",
        "colab_type": "text"
      },
      "source": [
        "<a href=\"https://colab.research.google.com/github/emad550/ML/blob/master/Assignment7.ipynb\" target=\"_parent\"><img src=\"https://colab.research.google.com/assets/colab-badge.svg\" alt=\"Open In Colab\"/></a>"
      ]
    },
    {
      "cell_type": "markdown",
      "metadata": {
        "id": "3Y5lNyXDWNJK",
        "colab_type": "text"
      },
      "source": [
        "Question: Write a function to find moving average in an array over a window:\n",
        "Test it over [3, 5, 7, 2, 8, 10, 11, 65, 72, 81, 99, 100, 150] and window of 3."
      ]
    },
    {
      "cell_type": "code",
      "metadata": {
        "id": "oXr19CFxWN8g",
        "colab_type": "code",
        "colab": {
          "base_uri": "https://localhost:8080/",
          "height": 70
        },
        "outputId": "c2123322-4609-4c47-95bc-5c385c39441d"
      },
      "source": [
        "#number of value = n-k+1 (13-3+1)=11\n",
        "import numpy as np\n",
        "a = [3, 5, 7, 2, 8, 10, 11, 65, 72, 81, 99, 100, 150]\n",
        "def avr (a,n):\n",
        "    l=[]\n",
        "    a=np.array(a)\n",
        "    for i in range (11):\n",
        "        x=np.sum(a[i:n+i])/n\n",
        "       # print(x)\n",
        "        l.append(x)\n",
        "    return np.array(l)\n",
        "avr(a,3)"
      ],
      "execution_count": 3,
      "outputs": [
        {
          "output_type": "execute_result",
          "data": {
            "text/plain": [
              "array([  5.        ,   4.66666667,   5.66666667,   6.66666667,\n",
              "         9.66666667,  28.66666667,  49.33333333,  72.66666667,\n",
              "        84.        ,  93.33333333, 116.33333333])"
            ]
          },
          "metadata": {
            "tags": []
          },
          "execution_count": 3
        }
      ]
    }
  ]
}